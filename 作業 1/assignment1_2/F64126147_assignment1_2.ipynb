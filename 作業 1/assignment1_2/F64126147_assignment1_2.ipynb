{
 "cells": [
  {
   "cell_type": "code",
   "execution_count": 10,
   "id": "90c137a3-5641-4ace-b0df-acb03b70f174",
   "metadata": {},
   "outputs": [
    {
     "name": "stdin",
     "output_type": "stream",
     "text": [
      "輸入正整數（若輸入0或負數結束）： 56\n",
      "輸入正整數（若輸入0或負數結束）： 78\n",
      "輸入正整數（若輸入0或負數結束）： 12\n",
      "輸入正整數（若輸入0或負數結束）： 0\n"
     ]
    },
    {
     "name": "stdout",
     "output_type": "stream",
     "text": [
      "共輸入 3 個整數\n",
      "最大值為：78\n",
      "最小值為：12\n",
      "輸入數總和為：146\n",
      "輸入數平均為：48.7\n"
     ]
    }
   ],
   "source": [
    "a=0\n",
    "b=0\n",
    "numbers=[]\n",
    "while a==0:\n",
    "    number=int(input(\"輸入正整數（若輸入0或負數結束）：\"))\n",
    "    numbers.append(number)\n",
    "    b+=1\n",
    "    if number<=0:\n",
    "        a+=1\n",
    "        b-=1\n",
    "        numbers.pop()\n",
    "print(\"共輸入 %d 個整數\" %(b))\n",
    "print(\"最大值為：%d\" %(max(numbers)))\n",
    "print(\"最小值為：%d\" %(min(numbers)))\n",
    "print(\"輸入數總和為：%d\" %(sum(numbers)))\n",
    "print(\"輸入數平均為：%.1f\" %((sum(numbers)/len(numbers))))"
   ]
  },
  {
   "cell_type": "code",
   "execution_count": null,
   "id": "9043a0a0-c53a-4091-9d9d-19d65a303147",
   "metadata": {},
   "outputs": [],
   "source": []
  }
 ],
 "metadata": {
  "kernelspec": {
   "display_name": "Python 3",
   "language": "python",
   "name": "python3"
  },
  "language_info": {
   "codemirror_mode": {
    "name": "ipython",
    "version": 3
   },
   "file_extension": ".py",
   "mimetype": "text/x-python",
   "name": "python",
   "nbconvert_exporter": "python",
   "pygments_lexer": "ipython3",
   "version": "3.8.8"
  }
 },
 "nbformat": 4,
 "nbformat_minor": 5
}
