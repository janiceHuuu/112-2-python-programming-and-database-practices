{
 "cells": [
  {
   "cell_type": "code",
   "execution_count": 1,
   "id": "954b3a50-26ca-4f61-92b3-8a7d968e3702",
   "metadata": {},
   "outputs": [
    {
     "name": "stdin",
     "output_type": "stream",
     "text": [
      " 3 ABCEHSHSH\n"
     ]
    },
    {
     "name": "stdout",
     "output_type": "stream",
     "text": [
      "CBASHEHSH"
     ]
    },
    {
     "name": "stdin",
     "output_type": "stream",
     "text": [
      " 5 FAOETASINAHGRIONATWONOQAONARIO\n"
     ]
    },
    {
     "name": "stdout",
     "output_type": "stream",
     "text": [
      "TEOAFANISAOIRGHOWTANOAQONOIRAN"
     ]
    },
    {
     "name": "stdin",
     "output_type": "stream",
     "text": [
      " 0\n"
     ]
    }
   ],
   "source": [
    "while True:\n",
    "  input_str = input()\n",
    "  if not input_str: \n",
    "      break\n",
    "  split_result = input_str.split()\n",
    "  if len(split_result) != 2:\n",
    "      break\n",
    "  G, group = split_result\n",
    "  G = int(G)\n",
    "  if G > 0:\n",
    "      a=[]\n",
    "      b=0\n",
    "      c=G\n",
    "      d=0\n",
    "      for r in range(len(group)):\n",
    "        a.append(group[r])\n",
    "        if (r+1)%G==0:\n",
    "            a.reverse()\n",
    "            for j in range(len(a)):\n",
    "                print(a[j],end='')\n",
    "            del a[0:G]"
   ]
  },
  {
   "cell_type": "code",
   "execution_count": null,
   "id": "1ca4a571-8d5c-4120-ad33-5f656f5c5791",
   "metadata": {},
   "outputs": [],
   "source": [
    "3 ABCEHSHSH\n",
    "5 FAOETASINAHGRIONATWONOQAONARIO"
   ]
  },
  {
   "cell_type": "code",
   "execution_count": null,
   "id": "cd57cf22-d13e-44bb-8bf2-19b7d3ced5d8",
   "metadata": {},
   "outputs": [],
   "source": []
  }
 ],
 "metadata": {
  "kernelspec": {
   "display_name": "Python 3",
   "language": "python",
   "name": "python3"
  },
  "language_info": {
   "codemirror_mode": {
    "name": "ipython",
    "version": 3
   },
   "file_extension": ".py",
   "mimetype": "text/x-python",
   "name": "python",
   "nbconvert_exporter": "python",
   "pygments_lexer": "ipython3",
   "version": "3.8.8"
  }
 },
 "nbformat": 4,
 "nbformat_minor": 5
}
