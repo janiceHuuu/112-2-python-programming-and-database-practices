{
 "cells": [
  {
   "cell_type": "code",
   "execution_count": 2,
   "id": "bd0369f7-0c15-4bc8-85f2-bf76a758ab14",
   "metadata": {},
   "outputs": [
    {
     "name": "stdin",
     "output_type": "stream",
     "text": [
      "請輸入一組身分證號碼： S154287863\n"
     ]
    },
    {
     "name": "stdout",
     "output_type": "stream",
     "text": [
      "fake\n"
     ]
    }
   ],
   "source": [
    "numbers=list(input(\"請輸入一組身分證號碼：\"))\n",
    "change={\"A\":10,\"B\":11,\"C\":12,\"D\":13,\"E\":14,\"F\":15,\"G\":16,\"H\":17, \"I\":34,\"J\":18,\"K\":19,\"L\":20,\"M\":21,\"N\":22,\"O\":35,\"P\":23,\"Q\":24,\"R\":25,\"S\":26,\"T\":27,\"U\":28,\"V\":29,\"W\":32,\"X\":30,\"Y\":31,\"Z\":33}\n",
    "a=change.get(numbers[0])\n",
    "b=a%10*9+a//10\n",
    "c=0\n",
    "for r in range(1,10):\n",
    "    c+=int(numbers[r])*(9-r)\n",
    "c=c+int(numbers[9])+b\n",
    "if c%10==0:\n",
    "    print(\"real\")\n",
    "else:\n",
    "    print(\"fake\")"
   ]
  },
  {
   "cell_type": "code",
   "execution_count": null,
   "id": "abe20874-9060-40d8-9570-694c08a0993d",
   "metadata": {},
   "outputs": [],
   "source": []
  }
 ],
 "metadata": {
  "kernelspec": {
   "display_name": "Python 3",
   "language": "python",
   "name": "python3"
  },
  "language_info": {
   "codemirror_mode": {
    "name": "ipython",
    "version": 3
   },
   "file_extension": ".py",
   "mimetype": "text/x-python",
   "name": "python",
   "nbconvert_exporter": "python",
   "pygments_lexer": "ipython3",
   "version": "3.8.8"
  }
 },
 "nbformat": 4,
 "nbformat_minor": 5
}
