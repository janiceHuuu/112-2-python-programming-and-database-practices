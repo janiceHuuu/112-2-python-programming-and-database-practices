{
 "cells": [
  {
   "cell_type": "code",
   "execution_count": 10,
   "id": "23728537-7970-4e8d-ac5b-02af26fa59fa",
   "metadata": {},
   "outputs": [
    {
     "name": "stdin",
     "output_type": "stream",
     "text": [
      " 3 4 0\n",
      " 8\n",
      " 210 190 170 150 130 110 900 70\n"
     ]
    },
    {
     "name": "stdout",
     "output_type": "stream",
     "text": [
      "7\n"
     ]
    }
   ],
   "source": [
    "S,M,L=map(int,input().split())\n",
    "N=int(input())\n",
    "X=list(map(int,input().split()))\n",
    "answer=0\n",
    "for r in range(len(X)):\n",
    "    if (200>X[r]>0):\n",
    "        if (S>0):\n",
    "            S-=1\n",
    "            answer+=1\n",
    "        elif(S<=0 and M>0):\n",
    "            M-=1\n",
    "            answer+=1\n",
    "        elif(S<=0 and M<=0 and L>0):\n",
    "            L-=1\n",
    "            answer+=1\n",
    "            \n",
    "    elif (500>X[r]>=200):\n",
    "        if (M>0):\n",
    "            M-=1\n",
    "            answer+=1\n",
    "        elif (M<=0 and L>0):\n",
    "            L-=1\n",
    "            answer+=1\n",
    "            \n",
    "    elif (X[r]>=500):\n",
    "        if(L>0):\n",
    "            L-=1\n",
    "            answer+=1\n",
    "print(answer)"
   ]
  },
  {
   "cell_type": "code",
   "execution_count": null,
   "id": "ff887f95-85c6-40fc-9d3b-699fcc0a37f4",
   "metadata": {},
   "outputs": [],
   "source": []
  }
 ],
 "metadata": {
  "kernelspec": {
   "display_name": "Python 3",
   "language": "python",
   "name": "python3"
  },
  "language_info": {
   "codemirror_mode": {
    "name": "ipython",
    "version": 3
   },
   "file_extension": ".py",
   "mimetype": "text/x-python",
   "name": "python",
   "nbconvert_exporter": "python",
   "pygments_lexer": "ipython3",
   "version": "3.8.8"
  }
 },
 "nbformat": 4,
 "nbformat_minor": 5
}
