{
 "cells": [
  {
   "cell_type": "code",
   "execution_count": null,
   "id": "538d69e3-e2c3-4af1-9a9f-ce50fc8e077f",
   "metadata": {},
   "outputs": [
    {
     "name": "stdin",
     "output_type": "stream",
     "text": [
      "請輸入月份： 12\n"
     ]
    },
    {
     "name": "stdout",
     "output_type": "stream",
     "text": [
      "現在是冬天，請隨時加件外套\n"
     ]
    },
    {
     "name": "stdin",
     "output_type": "stream",
     "text": [
      "請輸入月份： 1\n"
     ]
    },
    {
     "name": "stdout",
     "output_type": "stream",
     "text": [
      "現在是冬天，請隨時加件外套\n"
     ]
    },
    {
     "name": "stdin",
     "output_type": "stream",
     "text": [
      "請輸入月份： 2\n"
     ]
    },
    {
     "name": "stdout",
     "output_type": "stream",
     "text": [
      "現在是冬天，請隨時加件外套\n"
     ]
    },
    {
     "name": "stdin",
     "output_type": "stream",
     "text": [
      "請輸入月份： 3\n",
      "請輸入月份： 4\n",
      "請輸入月份： 5\n"
     ]
    }
   ],
   "source": [
    "while True:\n",
    "    x=int(input(\"請輸入月份：\"))\n",
    "    if(x==12 or x==1 or x==2):\n",
    "        print(\"現在是冬天，請隨時加件外套\")"
   ]
  },
  {
   "cell_type": "code",
   "execution_count": null,
   "id": "36d32d4e-496a-449b-858e-2200a6b80493",
   "metadata": {},
   "outputs": [],
   "source": []
  }
 ],
 "metadata": {
  "kernelspec": {
   "display_name": "Python 3",
   "language": "python",
   "name": "python3"
  },
  "language_info": {
   "codemirror_mode": {
    "name": "ipython",
    "version": 3
   },
   "file_extension": ".py",
   "mimetype": "text/x-python",
   "name": "python",
   "nbconvert_exporter": "python",
   "pygments_lexer": "ipython3",
   "version": "3.8.8"
  }
 },
 "nbformat": 4,
 "nbformat_minor": 5
}
